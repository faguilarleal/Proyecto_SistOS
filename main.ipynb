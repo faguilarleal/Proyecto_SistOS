{
 "cells": [
  {
   "cell_type": "code",
   "execution_count": 1,
   "id": "230d640d",
   "metadata": {},
   "outputs": [],
   "source": [
    "import matplotlib.pyplot as plt\n",
    "import matplotlib.patches as mpatches"
   ]
  },
  {
   "cell_type": "code",
   "execution_count": 2,
   "id": "6bdc1fa6",
   "metadata": {},
   "outputs": [],
   "source": [
    "def dibujar_gantt(ejecuciones):\n",
    "    \"\"\"\n",
    "    Dibuja un diagrama de Gantt.\n",
    "    \n",
    "    ejecuciones: Lista de tuplas (PID, inicio, fin)\n",
    "    \"\"\"\n",
    "    fig, ax = plt.subplots(figsize=(10, 3))\n",
    "    \n",
    "    colores = {}\n",
    "    colores_disponibles = plt.cm.get_cmap('tab10').colors\n",
    "    pid_indices = {}\n",
    "    \n",
    "    for idx, (pid, inicio, fin) in enumerate(ejecuciones):\n",
    "        if pid not in colores:\n",
    "            colores[pid] = colores_disponibles[len(colores) % len(colores_disponibles)]\n",
    "        if pid not in pid_indices:\n",
    "            pid_indices[pid] = len(pid_indices)\n",
    "        \n",
    "        duracion = fin - inicio\n",
    "        ax.broken_barh([(inicio, duracion)], (10 * pid_indices[pid], 9), facecolors=colores[pid])\n",
    "        ax.text(inicio + duracion / 2, 10 * pid_indices[pid] + 4.5, pid, ha='center', va='center', color='white', fontsize=9, fontweight='bold')\n",
    "    \n",
    "    # Configurar eje Y\n",
    "    ax.set_yticks([10 * i + 4.5 for i in pid_indices.values()])\n",
    "    ax.set_yticklabels(pid_indices.keys())\n",
    "    ax.set_xlabel(\"Ciclos\")\n",
    "    ax.set_title(\"Diagrama de Gantt\")\n",
    "\n",
    "    # Límites y rejilla\n",
    "    ax.grid(True)\n",
    "    ax.set_ylim(0, 10 * len(pid_indices))\n",
    "    ax.set_xlim(0, max(e[2] for e in ejecuciones) + 1)\n",
    "\n",
    "    plt.tight_layout()\n",
    "    plt.show()\n"
   ]
  },
  {
   "cell_type": "code",
   "execution_count": 3,
   "id": "0e3b286f",
   "metadata": {},
   "outputs": [
    {
     "name": "stderr",
     "output_type": "stream",
     "text": [
      "/tmp/ipykernel_14602/2776622519.py:10: MatplotlibDeprecationWarning: The get_cmap function was deprecated in Matplotlib 3.7 and will be removed in 3.11. Use ``matplotlib.colormaps[name]`` or ``matplotlib.colormaps.get_cmap()`` or ``pyplot.get_cmap()`` instead.\n",
      "  colores_disponibles = plt.cm.get_cmap('tab10').colors\n"
     ]
    },
    {
     "data": {
      "image/png": "[encoded data removed]",
      "text/plain": [
       "<Figure size 1000x300 with 1 Axes>"
      ]
     },
     "metadata": {},
     "output_type": "display_data"
    }
   ],
   "source": [
    "res = [(\"P1\", 0, 4), (\"P2\", 4, 7), (\"P1\", 7, 10)]\n",
    "dibujar_gantt(res)"
   ]
  },
  {
   "cell_type": "markdown",
   "id": "1c7018f7",
   "metadata": {},
   "source": [
    "## File Reader"
   ]
  },
  {
   "cell_type": "code",
   "execution_count": 4,
   "id": "29da09e5",
   "metadata": {},
   "outputs": [],
   "source": [
    "def read_files(process_path: str, resource_path: str, action_path: str):\n",
    "    procesos = {}  # PID -> {BT, AT, Priority}\n",
    "    recursos = {}  # Recurso -> {contador, lectores_activos, escritor_activo}\n",
    "    acciones_por_ciclo = {}  # Ciclo -> [acciones]\n",
    "\n",
    "    # Leer procesos\n",
    "    with open(process_path, 'r') as f:\n",
    "        for linea in f:\n",
    "            if linea.strip():\n",
    "                pid, bt, at, prioridad = map(str.strip, linea.strip().split(','))\n",
    "                procesos[pid] = {\n",
    "                    \"BT\": int(bt),\n",
    "                    \"AT\": int(at),\n",
    "                    \"Priority\": int(prioridad),\n",
    "                    \"tiempo_restante\": int(bt)  # útil para la simulación\n",
    "                }\n",
    "\n",
    "    # Leer recursos\n",
    "    with open(resource_path, 'r') as f:\n",
    "        for linea in f:\n",
    "            if linea.strip():\n",
    "                recurso, contador = map(str.strip, linea.strip().split(','))\n",
    "                recursos[recurso] = {\n",
    "                    \"contador\": int(contador),\n",
    "                    \"lectores_activos\": set(),\n",
    "                    \"escritor_activo\": None\n",
    "                }\n",
    "\n",
    "    # Leer acciones\n",
    "    with open(action_path, 'r') as f:\n",
    "        for linea in f:\n",
    "            if linea.strip():\n",
    "                pid, accion, recurso, ciclo = map(str.strip, linea.strip().split(','))\n",
    "                ciclo = int(ciclo)\n",
    "                if ciclo not in acciones_por_ciclo:\n",
    "                    acciones_por_ciclo[ciclo] = []\n",
    "                acciones_por_ciclo[ciclo].append({\n",
    "                    \"PID\": pid,\n",
    "                    \"accion\": accion.upper(),  # READ o WRITE\n",
    "                    \"recurso\": recurso\n",
    "                })\n",
    "\n",
    "    return procesos, recursos, acciones_por_ciclo\n"
   ]
  },
  {
   "cell_type": "markdown",
   "id": "74447678",
   "metadata": {},
   "source": [
    "# Calendarizacion\n",
    "## First In First Out "
   ]
  },
  {
   "cell_type": "code",
   "execution_count": 5,
   "id": "d0efb7f5",
   "metadata": {},
   "outputs": [
    {
     "data": {
      "text/plain": [
       "({'P1': {'BT': 5, 'AT': 0, 'Priority': 1, 'tiempo_restante': 5},\n",
       "  'P2': {'BT': 4, 'AT': 1, 'Priority': 2, 'tiempo_restante': 4},\n",
       "  'P3': {'BT': 6, 'AT': 2, 'Priority': 3, 'tiempo_restante': 6},\n",
       "  'P4': {'BT': 3, 'AT': 3, 'Priority': 2, 'tiempo_restante': 3},\n",
       "  'P5': {'BT': 2, 'AT': 4, 'Priority': 1, 'tiempo_restante': 2}},\n",
       " {'R1': {'contador': 1, 'lectores_activos': set(), 'escritor_activo': None},\n",
       "  'R2': {'contador': 2, 'lectores_activos': set(), 'escritor_activo': None},\n",
       "  'R3': {'contador': 1, 'lectores_activos': set(), 'escritor_activo': None}},\n",
       " {0: [{'PID': 'P1', 'accion': 'READ', 'recurso': 'R1'}],\n",
       "  1: [{'PID': 'P2', 'accion': 'WRITE', 'recurso': 'R2'}],\n",
       "  2: [{'PID': 'P3', 'accion': 'READ', 'recurso': 'R3'}],\n",
       "  3: [{'PID': 'P4', 'accion': 'WRITE', 'recurso': 'R1'}],\n",
       "  4: [{'PID': 'P5', 'accion': 'READ', 'recurso': 'R2'}],\n",
       "  5: [{'PID': 'P1', 'accion': 'WRITE', 'recurso': 'R2'}],\n",
       "  6: [{'PID': 'P2', 'accion': 'READ', 'recurso': 'R3'}],\n",
       "  7: [{'PID': 'P3', 'accion': 'WRITE', 'recurso': 'R1'}],\n",
       "  8: [{'PID': 'P4', 'accion': 'READ', 'recurso': 'R2'}],\n",
       "  9: [{'PID': 'P5', 'accion': 'WRITE', 'recurso': 'R3'}]})"
      ]
     },
     "execution_count": 5,
     "metadata": {},
     "output_type": "execute_result"
    }
   ],
   "source": [
    "actions_path = \"./input/test1/acciones.txt\"\n",
    "process_path = \"./input/test1/procesos_sync.txt\"\n",
    "resources_path = \"./input/test1/recursos.txt\"\n",
    "\n",
    "res = read_files(process_path=process_path, resource_path=resources_path, action_path=actions_path)\n",
    "res"
   ]
  }
 ],
 "metadata": {
  "kernelspec": {
   "display_name": "Python 3",
   "language": "python",
   "name": "python3"
  },
  "language_info": {
   "codemirror_mode": {
    "name": "ipython",
    "version": 3
   },
   "file_extension": ".py",
   "mimetype": "text/x-python",
   "name": "python",
   "nbconvert_exporter": "python",
   "pygments_lexer": "ipython3",
   "version": "3.12.1"
  }
 },
 "nbformat": 4,
 "nbformat_minor": 5
}
